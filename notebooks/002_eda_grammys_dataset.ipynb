{
 "cells": [
  {
   "cell_type": "markdown",
   "metadata": {},
   "source": [
    "EDA GRAMMY"
   ]
  },
  {
   "cell_type": "markdown",
   "metadata": {},
   "source": [
    "Comprobamos la conexion con la base de datos"
   ]
  },
  {
   "cell_type": "code",
   "execution_count": null,
   "metadata": {},
   "outputs": [],
   "source": [
    "import sys\n",
    "sys.path.append('C:/Users/HP/Desktop/Workshop_1/src')  \n",
    "from db_connection import conn\n",
    "\n",
    "import pandas as pd\n",
    "\n",
    "# Verificar la conexión y cargar los datos desde la base de datos\n",
    "query = \"SELECT * FROM grammy_awards\"\n",
    "df = pd.read_sql(query, con=conn.engine)\n",
    "\n",
    "# Mostrar las primeras filas del DataFrame\n",
    "df.head()"
   ]
  }
 ],
 "metadata": {
  "language_info": {
   "name": "python"
  }
 },
 "nbformat": 4,
 "nbformat_minor": 2
}
