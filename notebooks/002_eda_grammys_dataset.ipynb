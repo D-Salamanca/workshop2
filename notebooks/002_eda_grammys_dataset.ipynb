{
 "cells": [
  {
   "cell_type": "markdown",
   "metadata": {},
   "source": [
    "EDA GRAMMY"
   ]
  },
  {
   "cell_type": "code",
   "execution_count": null,
   "metadata": {},
   "outputs": [],
   "source": [
    "# Importar las librerías necesarias\n",
    "import pandas as pd\n",
    "from sqlalchemy import create_engine\n",
    "from decouple import config\n",
    "\n",
    "# Configurar la conexión a la base de datos\n",
    "engine = create_engine(f\"postgresql://{config('DB_USER')}:{config('DB_PASSWORD')}@{config('DB_HOST')}/{config('DB_NAME')}\")\n",
    "\n",
    "# Leer los datos de la tabla grammy_awards\n",
    "grammy_data = pd.read_sql('SELECT * FROM grammy_awards', con=engine)"
   ]
  },
  {
   "cell_type": "code",
   "execution_count": null,
   "metadata": {},
   "outputs": [],
   "source": [
    "# Mostrar las primeras filas del dataset\n",
    "print(\"Primeras filas del dataset Grammy:\")\n",
    "print(grammy_data.head())"
   ]
  },
  {
   "cell_type": "code",
   "execution_count": null,
   "metadata": {},
   "outputs": [],
   "source": [
    "# Descripción general del dataset\n",
    "print(\"\\nDescripción general del dataset:\")\n",
    "print(grammy_data.describe())\n",
    "\n",
    "# Comprobar los tipos de datos\n",
    "print(\"\\nTipos de datos de las columnas:\")\n",
    "print(grammy_data.dtypes)\n"
   ]
  },
  {
   "cell_type": "code",
   "execution_count": null,
   "metadata": {},
   "outputs": [],
   "source": [
    "# Comprobar si hay valores nulos\n",
    "print(\"\\nCantidad de valores nulos en cada columna:\")\n",
    "print(grammy_data.isnull().sum())\n",
    "\n",
    "# Análisis de la distribución de los ganadores y nominados\n",
    "winner_counts = grammy_data['winner'].value_counts()\n",
    "print(\"\\nDistribución de ganadores y nominados:\")\n",
    "print(winner_counts)"
   ]
  },
  {
   "cell_type": "code",
   "execution_count": null,
   "metadata": {},
   "outputs": [],
   "source": [
    "# Top 10 categorías más nominadas\n",
    "top_categories = grammy_data['category'].value_counts().nlargest(10)\n",
    "print(\"\\nTop 10 categorías más nominadas:\")\n",
    "print(top_categories)"
   ]
  },
  {
   "cell_type": "code",
   "execution_count": null,
   "metadata": {},
   "outputs": [],
   "source": [
    "# Análisis de los artistas más nominados\n",
    "top_artists = grammy_data['artist'].value_counts().nlargest(10)\n",
    "print(\"\\nTop 10 artistas más nominados:\")\n",
    "print(top_artists)"
   ]
  },
  {
   "cell_type": "code",
   "execution_count": null,
   "metadata": {},
   "outputs": [],
   "source": [
    "import matplotlib.pyplot as plt\n",
    "\n",
    "# Graficar la distribución de ganadores y nominados\n",
    "winner_counts.plot(kind='bar', title='Distribución de Ganadores y Nominados')\n",
    "plt.xlabel('Estado')\n",
    "plt.ylabel('Cantidad')\n",
    "plt.show()"
   ]
  },
  {
   "cell_type": "code",
   "execution_count": null,
   "metadata": {},
   "outputs": [],
   "source": [
    "# Graficar las categorías más nominadas\n",
    "top_categories.plot(kind='bar', title='Top 10 Categorías Más Nominadas')\n",
    "plt.xlabel('Categoría')\n",
    "plt.ylabel('Cantidad de Nominaciones')\n",
    "plt.show()"
   ]
  },
  {
   "cell_type": "code",
   "execution_count": null,
   "metadata": {},
   "outputs": [],
   "source": [
    "# Graficar los artistas más nominados\n",
    "top_artists.plot(kind='bar', title='Top 10 Artistas Más Nominados')\n",
    "plt.xlabel('Artista')\n",
    "plt.ylabel('Cantidad de Nominaciones')\n",
    "plt.show()"
   ]
  }
 ],
 "metadata": {
  "language_info": {
   "name": "python"
  }
 },
 "nbformat": 4,
 "nbformat_minor": 2
}
