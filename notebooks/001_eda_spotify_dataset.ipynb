{
 "cells": [
  {
   "cell_type": "markdown",
   "metadata": {},
   "source": [
    "EDA spotify"
   ]
  },
  {
   "cell_type": "code",
   "execution_count": null,
   "metadata": {},
   "outputs": [],
   "source": [
    "# Importar las librerías necesarias\n",
    "import pandas as pd\n",
    "import matplotlib.pyplot as plt\n",
    "import seaborn as sns\n",
    "\n",
    "# Configurar visualizaciones\n",
    "plt.style.use('seaborn')\n",
    "%matplotlib inline\n",
    "\n",
    "# Cargar el dataset de Spotify\n",
    "spotify_data = pd.read_csv('data/spotify_dataset.csv')"
   ]
  },
  {
   "cell_type": "code",
   "execution_count": null,
   "metadata": {},
   "outputs": [],
   "source": [
    "# Mostrar las primeras filas del dataframe\n",
    "print(\"Primeras filas del dataset:\")\n",
    "print(spotify_data.head())\n",
    "\n",
    "# Mostrar información básica del dataset\n",
    "print(\"\\nInformación del dataset:\")\n",
    "print(spotify_data.info())"
   ]
  },
  {
   "cell_type": "code",
   "execution_count": null,
   "metadata": {},
   "outputs": [],
   "source": [
    "# Mostrar estadísticas descriptivas\n",
    "print(\"\\nEstadísticas descriptivas:\")\n",
    "print(spotify_data.describe())\n",
    "\n",
    "# Comprobar valores nulos\n",
    "print(\"\\nValores nulos por columna:\")\n",
    "print(spotify_data.isnull().sum())"
   ]
  },
  {
   "cell_type": "code",
   "execution_count": null,
   "metadata": {},
   "outputs": [],
   "source": [
    "# Visualizar la distribución de algunas variables\n",
    "plt.figure(figsize=(12, 6))\n",
    "sns.histplot(spotify_data['popularity'], bins=30, kde=True)\n",
    "plt.title('Distribución de Popularidad')\n",
    "plt.xlabel('Popularidad')\n",
    "plt.ylabel('Frecuencia')\n",
    "plt.show()"
   ]
  },
  {
   "cell_type": "code",
   "execution_count": null,
   "metadata": {},
   "outputs": [],
   "source": [
    "# Analizar la correlación entre variables numéricas\n",
    "correlation_matrix = spotify_data.corr()\n",
    "plt.figure(figsize=(10, 8))\n",
    "sns.heatmap(correlation_matrix, annot=True, cmap='coolwarm', fmt='.2f')\n",
    "plt.title('Matriz de Correlación')\n",
    "plt.show()"
   ]
  },
  {
   "cell_type": "code",
   "execution_count": null,
   "metadata": {},
   "outputs": [],
   "source": [
    "# Analizar la relación entre 'danceability' y 'popularity'\n",
    "plt.figure(figsize=(10, 6))\n",
    "sns.scatterplot(data=spotify_data, x='danceability', y='popularity', hue='genre')\n",
    "plt.title('Relación entre Danceability y Popularidad')\n",
    "plt.xlabel('Danceability')\n",
    "plt.ylabel('Popularidad')\n",
    "plt.legend(loc='upper right')\n",
    "plt.show()"
   ]
  },
  {
   "cell_type": "code",
   "execution_count": null,
   "metadata": {},
   "outputs": [],
   "source": [
    "# Mostrar las primeras 10 filas del dataset basadas en la columna 'popularity'\n",
    "top_10_songs = spotify_data.nlargest(10, 'popularity')\n",
    "\n",
    "# Mostrar el resultado\n",
    "print(\"Top 10 canciones más populares:\")\n",
    "print(top_10_songs[['track_name', 'artists', 'popularity']])"
   ]
  },
  {
   "cell_type": "code",
   "execution_count": null,
   "metadata": {},
   "outputs": [],
   "source": [
    "# Agrupar por artista y calcular la popularidad media\n",
    "top_artists = spotify_data.groupby('artists').agg({'popularity': 'mean'}).reset_index()\n",
    "\n",
    "# Obtener los 10 artistas con mayor popularidad media\n",
    "top_10_artists = top_artists.nlargest(10, 'popularity')\n",
    "\n",
    "# Mostrar el resultado\n",
    "print(\"Top 10 artistas con mayor popularidad media:\")\n",
    "print(top_10_artists)"
   ]
  },
  {
   "cell_type": "code",
   "execution_count": null,
   "metadata": {},
   "outputs": [],
   "source": [
    "# Obtener las 10 canciones con mayor popularidad\n",
    "top_10_songs = spotify_data.nlargest(10, 'popularity')[['track_name', 'artists', 'popularity']]\n",
    "\n",
    "# Mostrar el resultado\n",
    "print(\"Top 10 canciones con mayor popularidad:\")\n",
    "print(top_10_songs)"
   ]
  }
 ],
 "metadata": {
  "language_info": {
   "name": "python"
  }
 },
 "nbformat": 4,
 "nbformat_minor": 2
}
